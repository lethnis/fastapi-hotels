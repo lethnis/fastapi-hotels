{
 "cells": [
  {
   "cell_type": "code",
   "execution_count": 1,
   "metadata": {},
   "outputs": [],
   "source": [
    "import asyncio\n",
    "import time\n"
   ]
  },
  {
   "cell_type": "code",
   "execution_count": 2,
   "metadata": {},
   "outputs": [],
   "source": [
    "# В функции async обязательно должен быть await"
   ]
  },
  {
   "cell_type": "code",
   "execution_count": 9,
   "metadata": {},
   "outputs": [],
   "source": [
    "async def get_large_data():\n",
    "    print(\"START: large\")\n",
    "    await asyncio.sleep(3)\n",
    "    print(\"END: large\")\n",
    "\n",
    "\n",
    "async def get_small_data():\n",
    "    print(\"START: small\")\n",
    "    await asyncio.sleep(1)\n",
    "    print(\"END: small\")\n",
    "\n",
    "\n",
    "async def main1():\n",
    "    start = time.perf_counter()\n",
    "\n",
    "    await get_large_data()\n",
    "    await get_small_data()\n",
    "\n",
    "    end = time.perf_counter()\n",
    "    print(f\"Total time: {end-start:.2f}\")\n",
    "\n",
    "\n",
    "async def main2():\n",
    "    start = time.perf_counter()\n",
    "\n",
    "    task1 = asyncio.create_task(get_large_data())\n",
    "    task2 = asyncio.create_task(get_small_data())\n",
    "    await task1\n",
    "    await task2\n",
    "\n",
    "    end = time.perf_counter()\n",
    "    print(f\"Total time: {end-start:.2f}\")\n"
   ]
  },
  {
   "cell_type": "code",
   "execution_count": 28,
   "metadata": {},
   "outputs": [
    {
     "name": "stdout",
     "output_type": "stream",
     "text": [
      "Я завершаюсь последней. Но почему?\n",
      "Завершена вторая задача\n",
      "Завершена первая задача\n"
     ]
    }
   ],
   "source": [
    "async def task_1():\n",
    "    await asyncio.sleep(2)\n",
    "    print(\"Завершена первая задача\")\n",
    "\n",
    "\n",
    "async def task_2():\n",
    "    await asyncio.sleep(1)\n",
    "    print(\"Завершена вторая задача\")\n",
    "\n",
    "\n",
    "async def task_3():\n",
    "    await asyncio.sleep(0.01)\n",
    "    print(\"Я завершаюсь последней. Но почему?\")\n",
    "\n",
    "\n",
    "async def main():\n",
    "    task1 = asyncio.create_task(task_1())\n",
    "    task2 = asyncio.create_task(task_2())\n",
    "    task3 = asyncio.create_task(task_3())\n",
    "    tasks = [task1, task2, task3]\n",
    "    for task in tasks:\n",
    "        await task\n",
    "\n",
    "\n",
    "await main()"
   ]
  },
  {
   "cell_type": "code",
   "execution_count": null,
   "metadata": {},
   "outputs": [],
   "source": []
  }
 ],
 "metadata": {
  "kernelspec": {
   "display_name": "base",
   "language": "python",
   "name": "python3"
  },
  "language_info": {
   "codemirror_mode": {
    "name": "ipython",
    "version": 3
   },
   "file_extension": ".py",
   "mimetype": "text/x-python",
   "name": "python",
   "nbconvert_exporter": "python",
   "pygments_lexer": "ipython3",
   "version": "3.11.5"
  }
 },
 "nbformat": 4,
 "nbformat_minor": 2
}
